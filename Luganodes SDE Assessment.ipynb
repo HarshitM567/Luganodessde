{
 "cells": [
  {
   "cell_type": "code",
   "id": "initial_id",
   "metadata": {
    "collapsed": true,
    "ExecuteTime": {
     "end_time": "2024-09-10T11:56:01.589489Z",
     "start_time": "2024-09-10T11:56:00.895564Z"
    }
   },
   "source": [
    "from web3 import Web3\n",
    "import logging\n",
    "\n",
    "# Configure logging\n",
    "logging.basicConfig(level=logging.INFO)\n",
    "logger = logging.getLogger(__name__)\n",
    "\n",
    "# Connect to Ethereum node using Alchemy\n",
    "alchemy_url = \"https://eth-mainnet.g.alchemy.com/v2/jK1cdcFZTiKaaznMtcnRE1RC_2WPLoZO\"\n",
    "web3 = Web3(Web3.HTTPProvider(alchemy_url))\n",
    "\n",
    "if web3.is_connected():\n",
    "    logger.info(\"Connected to Ethereum node\")\n",
    "else:\n",
    "    logger.error(\"Failed to connect to Ethereum node\")"
   ],
   "outputs": [
    {
     "ename": "ModuleNotFoundError",
     "evalue": "No module named 'web3'",
     "output_type": "error",
     "traceback": [
      "\u001B[1;31m---------------------------------------------------------------------------\u001B[0m",
      "\u001B[1;31mModuleNotFoundError\u001B[0m                       Traceback (most recent call last)",
      "Cell \u001B[1;32mIn[1], line 1\u001B[0m\n\u001B[1;32m----> 1\u001B[0m \u001B[38;5;28;01mfrom\u001B[39;00m \u001B[38;5;21;01mweb3\u001B[39;00m \u001B[38;5;28;01mimport\u001B[39;00m Web3\n\u001B[0;32m      2\u001B[0m \u001B[38;5;28;01mimport\u001B[39;00m \u001B[38;5;21;01mlogging\u001B[39;00m\n\u001B[0;32m      4\u001B[0m \u001B[38;5;66;03m# Configure logging\u001B[39;00m\n",
      "\u001B[1;31mModuleNotFoundError\u001B[0m: No module named 'web3'"
     ]
    }
   ],
   "execution_count": 1
  },
  {
   "metadata": {
    "ExecuteTime": {
     "end_time": "2024-09-10T11:56:01.592507Z",
     "start_time": "2024-09-10T11:56:01.592507Z"
    }
   },
   "cell_type": "code",
   "source": [
    "# Beacon Deposit Contract address\n",
    "beacon_deposit_contract = \"0x00000000219ab540356cBB839Cbe05303d7705Fa\"\n",
    "\n",
    "def fetch_deposit_data():\n",
    "    latest_block = web3.eth.get_block('latest')\n",
    "    for tx_hash in latest_block['transactions']:\n",
    "        tx = web3.eth.get_transaction(tx_hash)\n",
    "        if tx['to'] == beacon_deposit_contract:\n",
    "            logger.info(f\"Deposit detected: {tx_hash}\")\n",
    "            process_deposit(tx)\n",
    "\n",
    "def process_deposit(tx):\n",
    "    # Extract and store deposit details\n",
    "    deposit_details = {\n",
    "        'amount': web3.fromWei(tx['value'], 'ether'),\n",
    "        'sender': tx['from'],\n",
    "        'timestamp': web3.eth.get_block(tx['blockNumber'])['timestamp']\n",
    "    }\n",
    "    logger.info(f\"Deposit details: {deposit_details}\")\n",
    "    # Store deposit details (e.g., in a database or file)"
   ],
   "id": "f92bd3a8c08f33a2",
   "outputs": [],
   "execution_count": null
  },
  {
   "metadata": {},
   "cell_type": "code",
   "source": [
    "def fetch_deposit_data():\n",
    "    try:\n",
    "        latest_block = web3.eth.get_block('latest')\n",
    "        for tx_hash in latest_block['transactions']:\n",
    "            tx = web3.eth.get_transaction(tx_hash)\n",
    "            if tx['to'] == beacon_deposit_contract:\n",
    "                logger.info(f\"Deposit detected: {tx_hash}\")\n",
    "                process_deposit(tx)\n",
    "    except Exception as e:\n",
    "        logger.error(f\"Error fetching deposit data: {e}\")\n",
    "\n",
    "def process_deposit(tx):\n",
    "    try:\n",
    "        deposit_details = {\n",
    "            'amount': web3.fromWei(tx['value'], 'ether'),\n",
    "            'sender': tx['from'],\n",
    "            'timestamp': web3.eth.get_block(tx['blockNumber'])['timestamp']\n",
    "        }\n",
    "        logger.info(f\"Deposit details: {deposit_details}\")\n",
    "        # Store deposit details (e.g., in a database or file)\n",
    "    except Exception as e:\n",
    "        logger.error(f\"Error processing deposit: {e}\")"
   ],
   "id": "a4dadb5deaaad20c",
   "outputs": [],
   "execution_count": null
  },
  {
   "metadata": {},
   "cell_type": "code",
   "source": [
    "import requests\n",
    "\n",
    "def send_telegram_notification(message):\n",
    "    telegram_api_url = f\"https://api.telegram.org/6841515878:AAFpuLkUDbky9EhfMDI-p_NIFnver7t88yo/sendMessage\"\n",
    "    payload = {\n",
    "        'chat_id': '5030099389',\n",
    "        'text': message\n",
    "    }\n",
    "    requests.post(telegram_api_url, data=payload)\n",
    "\n",
    "def process_deposit(tx):\n",
    "    try:\n",
    "        deposit_details = {\n",
    "            'amount': web3.fromWei(tx['value'], 'ether'),\n",
    "            'sender': tx['from'],\n",
    "            'timestamp': web3.eth.get_block(tx['blockNumber'])['timestamp']\n",
    "        }\n",
    "        logger.info(f\"Deposit details: {deposit_details}\")\n",
    "        # Store deposit details (e.g., in a database or file)\n",
    "        send_telegram_notification(f\"New deposit detected: {deposit_details}\")\n",
    "    except Exception as e:\n",
    "        logger.error(f\"Error processing deposit: {e}\")"
   ],
   "id": "fa3c458da8c3c92d",
   "outputs": [],
   "execution_count": null
  },
  {
   "metadata": {},
   "cell_type": "code",
   "source": "",
   "id": "75abfec13514c9bd",
   "outputs": [],
   "execution_count": null
  }
 ],
 "metadata": {
  "kernelspec": {
   "display_name": "Python 3",
   "language": "python",
   "name": "python3"
  },
  "language_info": {
   "codemirror_mode": {
    "name": "ipython",
    "version": 2
   },
   "file_extension": ".py",
   "mimetype": "text/x-python",
   "name": "python",
   "nbconvert_exporter": "python",
   "pygments_lexer": "ipython2",
   "version": "2.7.6"
  }
 },
 "nbformat": 4,
 "nbformat_minor": 5
}
